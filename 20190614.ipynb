{
 "cells": [
  {
   "cell_type": "markdown",
   "metadata": {},
   "source": [
    "## 观点\n",
    "### 1 仓位和配置\n",
    " * 留有现金\n",
    " * 分散化，基本是单只股票买入不超过资产的20%\n",
    " * 行业分散，单行业不超过50%\n",
    " * 价格合理、收益率相差不大，用低风险品种代替高风险品种，如可转债代替正股\n",
    " \n",
    "### 2  资产估值\n",
    " * 流入现金为分红和最后卖掉股票\n",
    " * 以5年为期作为计算依据，但并不是交易依据\n",
    " * 合适折现率，长期国债加%4到%6的一个风险溢价\n",
    " * 根据流入现金流和折现率计算价值\n",
    " * 根据行业和股票质地打安全边际，得出合适买入价格，根据计算的计算的价值得出卖出价格\n",
    " \n",
    "### 3  心态\n",
    " * 来源于仓位和分散化配置\n",
    " * 来源企业估值\n",
    " * 把市场看做一个交易对手，反着看问题"
   ]
  },
  {
   "cell_type": "code",
   "execution_count": null,
   "metadata": {
    "collapsed": true
   },
   "outputs": [],
   "source": []
  }
 ],
 "metadata": {
  "kernelspec": {
   "display_name": "Python 3",
   "language": "python",
   "name": "python3"
  },
  "language_info": {
   "codemirror_mode": {
    "name": "ipython",
    "version": 3
   },
   "file_extension": ".py",
   "mimetype": "text/x-python",
   "name": "python",
   "nbconvert_exporter": "python",
   "pygments_lexer": "ipython3",
   "version": "3.5.2"
  },
  "toc": {
   "base_numbering": 1,
   "nav_menu": {},
   "number_sections": false,
   "sideBar": true,
   "skip_h1_title": false,
   "title_cell": "Table of Contents",
   "title_sidebar": "Contents",
   "toc_cell": false,
   "toc_position": {},
   "toc_section_display": true,
   "toc_window_display": false
  }
 },
 "nbformat": 4,
 "nbformat_minor": 1
}
