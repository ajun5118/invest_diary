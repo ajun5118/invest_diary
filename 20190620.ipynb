{
 "cells": [
  {
   "cell_type": "markdown",
   "metadata": {},
   "source": [
    "# 2019年6月20日"
   ]
  },
  {
   "cell_type": "markdown",
   "metadata": {
    "collapsed": true
   },
   "source": [
    "## 信息\n",
    "* 舒泰神\n",
    "\n",
    "-- 来源于雪球冰冰\n",
    "> 公司的产业布局还是挺牛的，不服不行：1、蛋白药物方面，老本行，神经生长因子，升级版本迭出，同时人源的也还在推进，在神经生长这块有望成为全球的领导者；2、蛋白药物方面，1000万收购了一个“蛇药”，可比的是康辰药业，这个药已经卖出了10个亿，而舒泰神在此基础上更进一步，将其适用症拓展至血友病，整出凝血因子（激活剂）来了；3、蛋白药物方面，收购了InflaRX的C5a靶点开发权益，尽管目前德国公司开发遇挫，但是C5a是一个靠谱的靶点，相信借鉴“蛇药”的前车之鉴，估计能在国内整出若干新的适用症；4、蛋白药物方面，其在“可供出售金融资产”项下，投资了若干国内潜力企业，如南京的前沿生物（那个抗艾滋病的艾博韦泰，绝对是国内一等一的研发企业，正申报科创板）、岸迈生物（双抗药物全球处于领先水平，将来上科创板或港交所）等；5、基因药物方面，就RNAi打造了系列药物开发平台，这个平台将来会源源不断产生诸多创新药；6、此外，公司在干细胞、人工智能医疗等方面都有思考和布局（可推敲“可供出售金融资产”明细）。\n",
    "宁静致远，耐得住寂寞，方能守得住繁华！"
   ]
  }
 ],
 "metadata": {
  "kernelspec": {
   "display_name": "Python 3",
   "language": "python",
   "name": "python3"
  },
  "language_info": {
   "codemirror_mode": {
    "name": "ipython",
    "version": 3
   },
   "file_extension": ".py",
   "mimetype": "text/x-python",
   "name": "python",
   "nbconvert_exporter": "python",
   "pygments_lexer": "ipython3",
   "version": "3.5.2"
  },
  "toc": {
   "base_numbering": 1,
   "nav_menu": {},
   "number_sections": true,
   "sideBar": true,
   "skip_h1_title": false,
   "title_cell": "Table of Contents",
   "title_sidebar": "Contents",
   "toc_cell": false,
   "toc_position": {},
   "toc_section_display": true,
   "toc_window_display": false
  }
 },
 "nbformat": 4,
 "nbformat_minor": 1
}
