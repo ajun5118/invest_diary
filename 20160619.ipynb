{
 "cells": [
  {
   "cell_type": "markdown",
   "metadata": {},
   "source": [
    "# 2019年6月19日"
   ]
  },
  {
   "cell_type": "markdown",
   "metadata": {
    "collapsed": true
   },
   "source": [
    "## 资讯\n",
    "> 2019年6月18日，舒泰神发布公告表示，其已提交 STSG-0002注射液用于乙肝病毒相关疾病的临床试验的申请。\n",
    "\n",
    "STSG-0002 注射液是舒泰神具有自主知识产权的 1 类新药，是基于核糖核酸干扰(RNAi)机制用于治疗乙型肝炎病毒感染相关疾病的基因药物，属于治疗用生物制品 I 类。舒泰神表示，STSG-0002 注射液项目的研发成功将有效解决现有乙型肝炎患者抗病毒治疗方案不能直接降低 HBsAg(乙型肝炎表面抗原)等 HBV 相关结构蛋白和调节蛋白的问题，对 HBV 感染相关 重症疾病带来新的治疗手段，具有良好的应用前景。STSG-0002 属于全新靶点， 全球范围内尚无该靶点基因产品上市。\n",
    "\n",
    "根据医药魔方全球新药库的收录，全球在研的乙肝新药项目超过140个。\n",
    "\n",
    "\n",
    "\n",
    "作者：医药魔方\n",
    "链接：https://xueqiu.com/8965749698/128400069\n",
    "来源：雪球\n",
    "著作权归作者所有。商业转载请联系作者获得授权，非商业转载请注明出处。\n",
    "** 公司新药研制取得的重要进展，从今日股价看市场并不认可，继续关注临床实验数据 **"
   ]
  },
  {
   "cell_type": "code",
   "execution_count": null,
   "metadata": {
    "collapsed": true
   },
   "outputs": [],
   "source": []
  }
 ],
 "metadata": {
  "kernelspec": {
   "display_name": "Python 3",
   "language": "python",
   "name": "python3"
  },
  "language_info": {
   "codemirror_mode": {
    "name": "ipython",
    "version": 3
   },
   "file_extension": ".py",
   "mimetype": "text/x-python",
   "name": "python",
   "nbconvert_exporter": "python",
   "pygments_lexer": "ipython3",
   "version": "3.5.2"
  },
  "toc": {
   "base_numbering": 1,
   "nav_menu": {},
   "number_sections": true,
   "sideBar": true,
   "skip_h1_title": false,
   "title_cell": "Table of Contents",
   "title_sidebar": "Contents",
   "toc_cell": false,
   "toc_position": {},
   "toc_section_display": true,
   "toc_window_display": false
  }
 },
 "nbformat": 4,
 "nbformat_minor": 1
}
