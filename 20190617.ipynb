{
 "cells": [
  {
   "cell_type": "markdown",
   "metadata": {},
   "source": [
    "# 2019年06月17日"
   ]
  },
  {
   "cell_type": "markdown",
   "metadata": {},
   "source": [
    "## 信息\n",
    "* 昆药集团\n",
    "\n",
    "*短期利好消息，对短期盈利无影响，受此刺激股票涨停。*\n",
    "> 【昆药集团作为负责单位开展“青蒿素治疗红斑狼疮”临床试验】$昆药集团(SH600422)$ 国家药品监督管理局《药物临床试验批件》显示，由屠呦呦团队所在的中国中医科学院中药研究所提交的“双氢青蒿素片剂治疗系统性红斑狼疮、盘状系统性红斑狼疮的适应症临床试验”申请已获批准。昆药集团股份有限公司作为负责单位开展临床试验。记者了解到，临床试验一般共三期，二、三期试验样本量更大，至少还需7到8年。若试验顺利，预计新双氢青蒿素片剂或最快于2026年前后获批上市。（新华社）"
   ]
  },
  {
   "cell_type": "markdown",
   "metadata": {},
   "source": [
    "## 操作\n",
    "\n",
    "* 申购新股 新化股份"
   ]
  },
  {
   "cell_type": "code",
   "execution_count": null,
   "metadata": {
    "collapsed": true
   },
   "outputs": [],
   "source": []
  }
 ],
 "metadata": {
  "kernelspec": {
   "display_name": "Python 3",
   "language": "python",
   "name": "python3"
  },
  "language_info": {
   "codemirror_mode": {
    "name": "ipython",
    "version": 3
   },
   "file_extension": ".py",
   "mimetype": "text/x-python",
   "name": "python",
   "nbconvert_exporter": "python",
   "pygments_lexer": "ipython3",
   "version": "3.5.2"
  },
  "toc": {
   "base_numbering": 1,
   "nav_menu": {},
   "number_sections": true,
   "sideBar": true,
   "skip_h1_title": false,
   "title_cell": "Table of Contents",
   "title_sidebar": "Contents",
   "toc_cell": false,
   "toc_position": {},
   "toc_section_display": true,
   "toc_window_display": false
  }
 },
 "nbformat": 4,
 "nbformat_minor": 1
}
