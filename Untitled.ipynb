{
 "cells": [
  {
   "cell_type": "code",
   "execution_count": 23,
   "metadata": {},
   "outputs": [],
   "source": [
    "import asyncio\n",
    "from pyppeteer import launch\n",
    "import nest_asyncio\n",
    "nest_asyncio.apply()\n",
    "import os.path\n",
    "from urllib import parse"
   ]
  },
  {
   "cell_type": "code",
   "execution_count": 24,
   "metadata": {},
   "outputs": [],
   "source": [
    "from lxml import etree"
   ]
  },
  {
   "cell_type": "code",
   "execution_count": 25,
   "metadata": {},
   "outputs": [],
   "source": [
    "from collections import namedtuple"
   ]
  },
  {
   "cell_type": "code",
   "execution_count": 26,
   "metadata": {},
   "outputs": [],
   "source": [
    "CHR_PATH = os.path.join(r'd:\\chrome-win32\\chrome.exe')"
   ]
  },
  {
   "cell_type": "code",
   "execution_count": 27,
   "metadata": {},
   "outputs": [],
   "source": [
    "host_url = 'http://money.finance.sina.com.cn/'"
   ]
  },
  {
   "cell_type": "code",
   "execution_count": 28,
   "metadata": {},
   "outputs": [],
   "source": [
    "divi_url_fmt = 'http://money.finance.sina.com.cn/corp/go.php/vISSUE_ShareBonus/stockid/{code!s}.phtml'"
   ]
  },
  {
   "cell_type": "code",
   "execution_count": 29,
   "metadata": {},
   "outputs": [],
   "source": [
    "Divi = namedtuple('div',['公告日期','送股','转增','派息','进度','除权除息日','股权登记日','红股上市日','查看详情'])"
   ]
  },
  {
   "cell_type": "code",
   "execution_count": 45,
   "metadata": {},
   "outputs": [],
   "source": [
    "def create_url_dict(base_fmt,data):\n",
    "    '''\n",
    "    paras:\n",
    "      base_fmt:base url,it is format string \n",
    "      eg.http://money.finance.sina.com.cn/corp\n",
    "      /go.php/vISSUE_ShareBonus/stockid/{code!s}.phtml\n",
    "      data:a list,include string eg.\"[600029,600016\"  \n",
    "      return:dict which its element is url'''\n",
    "    urls = {}\n",
    "    for item in data:\n",
    "        urls[str(item)] = base_fmt.format(code = item)\n",
    "    return urls"
   ]
  },
  {
   "cell_type": "code",
   "execution_count": 46,
   "metadata": {},
   "outputs": [],
   "source": [
    "async def main(urls):\n",
    "    \n",
    "    browser = await launch(executablePath = CHR_PATH)\n",
    "    page = await browser.newPage()\n",
    "    if isinstance(urls,dict):\n",
    "        divi_data = {}\n",
    "        for key,url in urls.items():\n",
    "            content = await got_page(page,url)\n",
    "            divi_data[key] = extract_divi(content)\n",
    "            time.sleep(2)\n",
    "    else:\n",
    "        content = await got_page(page,urls)\n",
    "        divi_data = extract_divi(content)\n",
    "    await browser.close()\n",
    "    return divi_data"
   ]
  },
  {
   "cell_type": "code",
   "execution_count": 47,
   "metadata": {},
   "outputs": [],
   "source": [
    "async def got_page(page,url):\n",
    "    \"\"\"\n",
    "    \n",
    "    goto url to get content\n",
    "    paras:\n",
    "    page: pypuppeteer page object\n",
    "    url:\n",
    "    return web's content\"\"\"\n",
    "    await page.goto(url)\n",
    "    content = await page.content()\n",
    "    return content"
   ]
  },
  {
   "cell_type": "code",
   "execution_count": 48,
   "metadata": {},
   "outputs": [],
   "source": [
    "def extract_divi(content):\n",
    "    \n",
    "    \n",
    "    xpath_temple1 = '//*[@id=\"sharebonus_1\"]/tbody/tr'\n",
    "    xpath_temple2 = 'td/text()'\n",
    "    data = []\n",
    "    html = etree.HTML(content)\n",
    "\n",
    "    for x in html.xpath(xpath_temple1):\n",
    "        t = x.xpath(xpath_temple2)\n",
    "        try:\n",
    "            detail_link = x.xpath('/td[9]/a/@href')[0]\n",
    "            detail_link = parse.join(host_url,detail_link)\n",
    "        except IndexError:\n",
    "            detail_link = ''\n",
    "        t.append(detail_link)\n",
    "        d = Divi(*t)\n",
    "        data.append(d)\n",
    "    return data"
   ]
  },
  {
   "cell_type": "code",
   "execution_count": 49,
   "metadata": {},
   "outputs": [],
   "source": [
    "code = '600029'\n",
    "url_exp = divi_url_fmt.format(code = code)"
   ]
  },
  {
   "cell_type": "code",
   "execution_count": 50,
   "metadata": {},
   "outputs": [],
   "source": [
    "co = main(url_exp)\n",
    "task = asyncio.ensure_future(co)"
   ]
  },
  {
   "cell_type": "code",
   "execution_count": 51,
   "metadata": {},
   "outputs": [],
   "source": [
    "loop = asyncio.get_event_loop()\n",
    "r = loop.run_until_complete(task)"
   ]
  },
  {
   "cell_type": "code",
   "execution_count": 52,
   "metadata": {},
   "outputs": [
    {
     "data": {
      "text/plain": [
       "[div(公告日期='2019-06-27', 送股='0', 转增='0', 派息='0.5', 进度='实施', 除权除息日='2019-07-24', 股权登记日='2019-07-23', 红股上市日='--', 查看详情=''),\n",
       " div(公告日期='2018-06-16', 送股='0', 转增='0', 派息='1', 进度='实施', 除权除息日='2018-07-12', 股权登记日='2018-07-11', 红股上市日='--', 查看详情=''),\n",
       " div(公告日期='2017-07-01', 送股='0', 转增='0', 派息='1', 进度='实施', 除权除息日='2017-07-26', 股权登记日='2017-07-25', 红股上市日='--', 查看详情=''),\n",
       " div(公告日期='2016-06-27', 送股='0', 转增='0', 派息='0.8', 进度='实施', 除权除息日='2016-07-01', 股权登记日='2016-06-30', 红股上市日='--', 查看详情=''),\n",
       " div(公告日期='2015-07-31', 送股='0', 转增='0', 派息='0.4', 进度='实施', 除权除息日='2015-08-06', 股权登记日='2015-08-05', 红股上市日='--', 查看详情=''),\n",
       " div(公告日期='2014-07-25', 送股='0', 转增='0', 派息='0.4', 进度='实施', 除权除息日='2014-07-31', 股权登记日='2014-07-30', 红股上市日='--', 查看详情=''),\n",
       " div(公告日期='2013-07-15', 送股='0', 转增='0', 派息='0.5', 进度='实施', 除权除息日='2013-07-19', 股权登记日='2013-07-18', 红股上市日='--', 查看详情=''),\n",
       " div(公告日期='2012-07-02', 送股='0', 转增='0', 派息='2', 进度='实施', 除权除息日='2012-07-09', 股权登记日='2012-07-06', 红股上市日='--', 查看详情=''),\n",
       " div(公告日期='2011-03-29', 送股='0', 转增='0', 派息='0', 进度='不分配', 除权除息日='--', 股权登记日='--', 红股上市日='--', 查看详情=''),\n",
       " div(公告日期='2010-04-13', 送股='0', 转增='0', 派息='0', 进度='不分配', 除权除息日='--', 股权登记日='--', 红股上市日='--', 查看详情=''),\n",
       " div(公告日期='2009-04-15', 送股='0', 转增='0', 派息='0', 进度='不分配', 除权除息日='--', 股权登记日='--', 红股上市日='--', 查看详情=''),\n",
       " div(公告日期='2008-08-25', 送股='0', 转增='5', 派息='0', 进度='实施', 除权除息日='2008-08-29', 股权登记日='2008-08-28', 红股上市日='2008-09-01', 查看详情=''),\n",
       " div(公告日期='2007-04-17', 送股='0', 转增='0', 派息='0', 进度='不分配', 除权除息日='--', 股权登记日='--', 红股上市日='--', 查看详情=''),\n",
       " div(公告日期='2006-04-20', 送股='0', 转增='0', 派息='0', 进度='不分配', 除权除息日='--', 股权登记日='--', 红股上市日='--', 查看详情=''),\n",
       " div(公告日期='2005-06-16', 送股='0', 转增='0', 派息='0', 进度='不分配', 除权除息日='--', 股权登记日='--', 红股上市日='--', 查看详情='')]"
      ]
     },
     "execution_count": 52,
     "metadata": {},
     "output_type": "execute_result"
    }
   ],
   "source": [
    "r"
   ]
  },
  {
   "cell_type": "code",
   "execution_count": null,
   "metadata": {},
   "outputs": [],
   "source": []
  }
 ],
 "metadata": {
  "kernelspec": {
   "display_name": "Python 3",
   "language": "python",
   "name": "python3"
  },
  "language_info": {
   "codemirror_mode": {
    "name": "ipython",
    "version": 3
   },
   "file_extension": ".py",
   "mimetype": "text/x-python",
   "name": "python",
   "nbconvert_exporter": "python",
   "pygments_lexer": "ipython3",
   "version": "3.7.3"
  },
  "toc": {
   "base_numbering": 1,
   "nav_menu": {},
   "number_sections": true,
   "sideBar": true,
   "skip_h1_title": false,
   "title_cell": "Table of Contents",
   "title_sidebar": "Contents",
   "toc_cell": false,
   "toc_position": {},
   "toc_section_display": true,
   "toc_window_display": false
  }
 },
 "nbformat": 4,
 "nbformat_minor": 2
}
