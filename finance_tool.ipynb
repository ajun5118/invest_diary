{
 "cells": [
  {
   "cell_type": "code",
   "execution_count": 1,
   "metadata": {
    "collapsed": false
   },
   "outputs": [
    {
     "name": "stdout",
     "output_type": "stream",
     "text": [
      "Writing finance_tool.py\n"
     ]
    }
   ],
   "source": [
    "%%writefile finance_tool.py\n",
    "import math\n",
    "\n",
    "from collections import abc\n",
    "\n",
    "import numbers\n",
    "\n",
    "def pv(rate,nper,amt):\n",
    "    return pmt * math.pow((1 + rate),-nper)\n",
    "\n",
    "def npv(rate,cash_flw,verbose = False):\n",
    "    if isinstance(cash_flw,abc.Sequence):\n",
    "        \n",
    "        result = []\n",
    "        for item,value in enumerate(cash_flw,start = 1):\n",
    "            result.append(value * math.pow((1 + rate),-item))\n",
    "        if not verbose:\n",
    "            result = sum(result)\n",
    "    else:\n",
    "        raise TypeError('cash_flw is not Sequence')\n",
    "    return result\n",
    "\n",
    "def fv(rate,nper,amt):\n",
    "    \n",
    "    return  amt * math.pow((1+rate),nper)\n",
    "\n",
    "def nfv(rate,cash_flw,verbose = False):\n",
    "    if isinstance(cash_flw,abc.Sequence):\n",
    "        n = reversed(range(1,len(cash_flw) + 1))\n",
    "        \n",
    "        result = []\n",
    "        for item,value in zip(n,cash_flw):\n",
    "            result.append(value * math.pow((1 + rate),item))\n",
    "        if not verbose:\n",
    "            result = sum(result)\n",
    "    else:\n",
    "        raise TypeError('cash_flw is not Sequence')\n",
    "    return result"
   ]
  },
  {
   "cell_type": "code",
   "execution_count": 25,
   "metadata": {
    "collapsed": true
   },
   "outputs": [],
   "source": [
    "rate = .1\n",
    "amt = 1000\n",
    "nper = 5\n",
    "cashes = [100] * 5"
   ]
  },
  {
   "cell_type": "code",
   "execution_count": 28,
   "metadata": {
    "collapsed": false
   },
   "outputs": [],
   "source": [
    "test1 = nfv(rate,cashes,True)"
   ]
  },
  {
   "cell_type": "code",
   "execution_count": 29,
   "metadata": {
    "collapsed": false
   },
   "outputs": [
    {
     "data": {
      "text/plain": [
       "[161.05100000000004,\n",
       " 146.41000000000005,\n",
       " 133.10000000000005,\n",
       " 121.00000000000001,\n",
       " 110.00000000000001]"
      ]
     },
     "execution_count": 29,
     "metadata": {},
     "output_type": "execute_result"
    }
   ],
   "source": [
    "test1"
   ]
  },
  {
   "cell_type": "code",
   "execution_count": 7,
   "metadata": {
    "collapsed": false
   },
   "outputs": [
    {
     "ename": "TypeError",
     "evalue": "'int' object is not iterable",
     "output_type": "error",
     "traceback": [
      "\u001b[0;31m---------------------------------------------------------------------------\u001b[0m",
      "\u001b[0;31mTypeError\u001b[0m                                 Traceback (most recent call last)",
      "\u001b[0;32m<ipython-input-7-b53e754a30d1>\u001b[0m in \u001b[0;36m<module>\u001b[0;34m()\u001b[0m\n\u001b[0;32m----> 1\u001b[0;31m \u001b[1;32mfor\u001b[0m \u001b[0mx\u001b[0m \u001b[1;32min\u001b[0m \u001b[1;36m5\u001b[0m\u001b[1;33m:\u001b[0m\u001b[1;33m\u001b[0m\u001b[0m\n\u001b[0m\u001b[1;32m      2\u001b[0m     \u001b[0mprint\u001b[0m\u001b[1;33m(\u001b[0m\u001b[0mx\u001b[0m\u001b[1;33m)\u001b[0m\u001b[1;33m\u001b[0m\u001b[0m\n",
      "\u001b[0;31mTypeError\u001b[0m: 'int' object is not iterable"
     ]
    }
   ],
   "source": [
    "for x in 5:\n",
    "    print(x)"
   ]
  },
  {
   "cell_type": "code",
   "execution_count": 23,
   "metadata": {
    "collapsed": false
   },
   "outputs": [
    {
     "data": {
      "text/plain": [
       "[4, 3, 2, 1, 0]"
      ]
     },
     "execution_count": 23,
     "metadata": {},
     "output_type": "execute_result"
    }
   ],
   "source": [
    "list(reversed(range(5)))"
   ]
  },
  {
   "cell_type": "code",
   "execution_count": null,
   "metadata": {
    "collapsed": true
   },
   "outputs": [],
   "source": []
  }
 ],
 "metadata": {
  "kernelspec": {
   "display_name": "Python 3",
   "language": "python",
   "name": "python3"
  },
  "language_info": {
   "codemirror_mode": {
    "name": "ipython",
    "version": 3
   },
   "file_extension": ".py",
   "mimetype": "text/x-python",
   "name": "python",
   "nbconvert_exporter": "python",
   "pygments_lexer": "ipython3",
   "version": "3.5.2"
  },
  "toc": {
   "base_numbering": 1,
   "nav_menu": {},
   "number_sections": true,
   "sideBar": true,
   "skip_h1_title": false,
   "title_cell": "Table of Contents",
   "title_sidebar": "Contents",
   "toc_cell": false,
   "toc_position": {},
   "toc_section_display": true,
   "toc_window_display": false
  }
 },
 "nbformat": 4,
 "nbformat_minor": 1
}
